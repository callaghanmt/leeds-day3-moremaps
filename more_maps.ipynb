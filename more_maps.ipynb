{
 "cells": [
  {
   "cell_type": "markdown",
   "metadata": {},
   "source": [
    "## Plotting seismic data on a Basemap map\n"
   ]
  },
  {
   "cell_type": "markdown",
   "metadata": {},
   "source": [
    "This works for Python 3, you might need to make some changes for Python 2"
   ]
  },
  {
   "cell_type": "code",
   "execution_count": null,
   "metadata": {
    "collapsed": true
   },
   "outputs": [],
   "source": [
    "#Set up environment and imports\n",
    "from mpl_toolkits.basemap import Basemap\n",
    "import matplotlib.pyplot as plt\n",
    "import numpy as np\n",
    "\n",
    "%matplotlib inline"
   ]
  },
  {
   "cell_type": "code",
   "execution_count": null,
   "metadata": {
    "collapsed": false
   },
   "outputs": [],
   "source": [
    "# To start, create a simple map:\n",
    "# make sure the value of resolution is a lowercase L,\n",
    "#  for 'low', not a numeral 1\n",
    "my_map = Basemap(projection='ortho', lat_0=50, lon_0=-100,\n",
    "              resolution='l', area_thresh=1000.0)\n",
    " \n",
    "my_map.drawcoastlines()\n",
    " \n",
    "plt.show()"
   ]
  },
  {
   "cell_type": "code",
   "execution_count": null,
   "metadata": {
    "collapsed": false
   },
   "outputs": [],
   "source": [
    "# Add some detail, including borders\n",
    "# Refer to basemap documentation for more information\n",
    "\n",
    "my_map = Basemap(projection='ortho', lat_0=50, lon_0=-100,\n",
    "              resolution='l', area_thresh=1000.0)\n",
    " \n",
    "my_map.drawcoastlines()\n",
    "my_map.drawcountries()\n",
    "my_map.fillcontinents(color='coral')\n",
    " \n",
    "plt.show()"
   ]
  },
  {
   "cell_type": "code",
   "execution_count": null,
   "metadata": {
    "collapsed": false
   },
   "outputs": [],
   "source": [
    "# Add cleaner edges, draw meridians and parallels\n",
    "from mpl_toolkits.basemap import Basemap\n",
    "import matplotlib.pyplot as plt\n",
    "import numpy as np\n",
    " \n",
    "# make sure the value of resolution is a lowercase L,\n",
    "#  for 'low', not a numeral 1\n",
    "my_map = Basemap(projection='ortho', lat_0=0, lon_0=-100,\n",
    "              resolution='l', area_thresh=1000.0)\n",
    " \n",
    "my_map.drawcoastlines()\n",
    "my_map.drawcountries()\n",
    "my_map.fillcontinents(color='coral')\n",
    "my_map.drawmapboundary()\n",
    " \n",
    "my_map.drawmeridians(np.arange(0, 360, 30))\n",
    "my_map.drawparallels(np.arange(-90, 90, 30))\n",
    " \n",
    "plt.show()"
   ]
  },
  {
   "cell_type": "code",
   "execution_count": null,
   "metadata": {
    "collapsed": false
   },
   "outputs": [],
   "source": [
    "# Change the projection type\n",
    "# 'robin' for Robinson\n",
    "from mpl_toolkits.basemap import Basemap\n",
    "import matplotlib.pyplot as plt\n",
    "import numpy as np\n",
    " \n",
    "# make sure the value of resolution is a lowercase L,\n",
    "#  for 'low', not a numeral 1\n",
    "my_map = Basemap(projection='robin', lat_0=0, lon_0=-100,\n",
    "              resolution='l', area_thresh=1000.0)\n",
    " \n",
    "my_map.drawcoastlines()\n",
    "my_map.drawcountries()\n",
    "my_map.fillcontinents(color='coral')\n",
    "my_map.drawmapboundary()\n",
    " \n",
    "my_map.drawmeridians(np.arange(0, 360, 30))\n",
    "my_map.drawparallels(np.arange(-90, 90, 30))\n",
    " \n",
    "plt.show()"
   ]
  },
  {
   "cell_type": "markdown",
   "metadata": {},
   "source": [
    "Rather than showing the whole globe, we can zoom in on a region by specifying the lower left and upper right corners (with lats and longs) of the region:"
   ]
  },
  {
   "cell_type": "code",
   "execution_count": null,
   "metadata": {
    "collapsed": false
   },
   "outputs": [],
   "source": [
    "my_map = Basemap(projection='merc', lat_0=57, lon_0=-135,\n",
    "    resolution = 'l', area_thresh = 1000.0,\n",
    "    llcrnrlon=-136.25, llcrnrlat=56,\n",
    "    urcrnrlon=-134.25, urcrnrlat=57.75)\n",
    " \n",
    "my_map.drawcoastlines()\n",
    "my_map.drawcountries()\n",
    "my_map.fillcontinents(color='coral')\n",
    "my_map.drawmapboundary()\n",
    " \n",
    "my_map.drawmeridians(np.arange(0, 360, 30))\n",
    "my_map.drawparallels(np.arange(-90, 90, 30))\n",
    " \n",
    "plt.show()"
   ]
  },
  {
   "cell_type": "markdown",
   "metadata": {},
   "source": [
    "Here we might want to improve the resolution to 'h' for high and change the point at which we centre the map.\n",
    "Google maps provides an easy way to find lats and longs."
   ]
  },
  {
   "cell_type": "code",
   "execution_count": null,
   "metadata": {
    "collapsed": false
   },
   "outputs": [],
   "source": [
    "my_map = Basemap(projection='merc', lat_0=57, lon_0=-135,\n",
    "    resolution = 'h', area_thresh = 1000.0,\n",
    "    llcrnrlon=-136.25, llcrnrlat=56,\n",
    "    urcrnrlon=-134.25, urcrnrlat=57.75)\n",
    " \n",
    "my_map.drawcoastlines()\n",
    "my_map.drawcountries()\n",
    "my_map.fillcontinents(color='coral')\n",
    "my_map.drawmapboundary()\n",
    " \n",
    "my_map.drawmeridians(np.arange(0, 360, 30))\n",
    "my_map.drawparallels(np.arange(-90, 90, 30))\n",
    " \n",
    "plt.show()"
   ]
  },
  {
   "cell_type": "markdown",
   "metadata": {},
   "source": [
    "The area_thresh parameter controls the smallest surface area feature to show. Change this to show smaller features."
   ]
  },
  {
   "cell_type": "markdown",
   "metadata": {},
   "source": [
    "# Plotting points on a map"
   ]
  },
  {
   "cell_type": "code",
   "execution_count": null,
   "metadata": {
    "collapsed": false
   },
   "outputs": [],
   "source": [
    "my_map = Basemap(projection='merc', lat_0 = 57, lon_0 = -135,\n",
    "    resolution = 'h', area_thresh = 0.1,\n",
    "    llcrnrlon=-136.25, llcrnrlat=56.0,\n",
    "    urcrnrlon=-134.25, urcrnrlat=57.75)\n",
    " \n",
    "my_map.drawcoastlines()\n",
    "my_map.drawcountries()\n",
    "my_map.fillcontinents(color = 'coral')\n",
    "my_map.drawmapboundary()\n",
    " \n",
    "lon = -135.3318\n",
    "lat = 57.0799\n",
    "x,y = my_map(lon, lat)\n",
    "my_map.plot(x, y, 'bo', markersize=12)\n",
    " \n",
    "plt.show()"
   ]
  },
  {
   "cell_type": "markdown",
   "metadata": {},
   "source": [
    "Multiple sets of lat and long points can be stored in lists and then plotted all in one go, such as:"
   ]
  },
  {
   "cell_type": "code",
   "execution_count": null,
   "metadata": {
    "collapsed": false
   },
   "outputs": [],
   "source": [
    "my_map = Basemap(projection='merc', lat_0 = 57, lon_0 = -135,\n",
    "    resolution = 'h', area_thresh = 0.1,\n",
    "    llcrnrlon=-136.25, llcrnrlat=56.0,\n",
    "    urcrnrlon=-134.25, urcrnrlat=57.75)\n",
    " \n",
    "my_map.drawcoastlines()\n",
    "my_map.drawcountries()\n",
    "my_map.fillcontinents(color = 'coral')\n",
    "my_map.drawmapboundary()\n",
    " \n",
    "lons = [-135.3318, -134.8331, -134.6572]\n",
    "lats = [57.0799, 57.0894, 56.2399]\n",
    "x,y = my_map(lons, lats)\n",
    "my_map.plot(x, y, 'bo', markersize=10)\n",
    " \n",
    "plt.show()"
   ]
  },
  {
   "cell_type": "markdown",
   "metadata": {},
   "source": [
    "Following this, labels can be added to the points. Note that the marker type and size can be changed (eg. 'bo' is a blue circle)."
   ]
  },
  {
   "cell_type": "code",
   "execution_count": null,
   "metadata": {
    "collapsed": false
   },
   "outputs": [],
   "source": [
    "my_map = Basemap(projection='merc', lat_0 = 57, lon_0 = -135,\n",
    "    resolution = 'h', area_thresh = 0.1,\n",
    "    llcrnrlon=-136.25, llcrnrlat=56.0,\n",
    "    urcrnrlon=-134.25, urcrnrlat=57.75)\n",
    " \n",
    "my_map.drawcoastlines()\n",
    "my_map.drawcountries()\n",
    "my_map.fillcontinents(color = 'coral')\n",
    "my_map.drawmapboundary()\n",
    " \n",
    "lons = [-135.3318, -134.8331, -134.6572]\n",
    "lats = [57.0799, 57.0894, 56.2399]\n",
    "x,y = my_map(lons, lats)\n",
    "my_map.plot(x, y, 'bo', markersize=10)\n",
    " \n",
    "labels = ['Location A', 'Location B', 'Location C']\n",
    "for label, xpt, ypt in zip(labels, x, y):\n",
    "    plt.text(xpt, ypt, label)\n",
    " \n",
    "plt.show()"
   ]
  },
  {
   "cell_type": "markdown",
   "metadata": {},
   "source": [
    "## Plotting global earthquake data"
   ]
  },
  {
   "cell_type": "markdown",
   "metadata": {},
   "source": [
    "First, get some data.\n",
    "The USGS provides csv files at: http://earthquake.usgs.gov/earthquakes/feed/v1.0/csv.php\n",
    "\n",
    "Download the file: \n",
    "**M1.0+ Earthquakes** under the **Past 7 Days** header"
   ]
  },
  {
   "cell_type": "markdown",
   "metadata": {},
   "source": [
    "This is quite a complex data set, but if you look at it with a text editor you'll see that columns 2 and 3 are the most interesting. These are the lats and longs or recorded seismic events.\n",
    "\n",
    "In the directory where you saved this notebook, make a directory called “datasets”. Save the text file as “earthquake_data.csv” in this new directory."
   ]
  },
  {
   "cell_type": "code",
   "execution_count": null,
   "metadata": {
    "collapsed": false
   },
   "outputs": [],
   "source": [
    "# We'll process the data using Python's csv module module, \n",
    "# which simplifies the process of working with csv files.\n",
    "\n",
    "# The following code produces two lists, containing the latitudes \n",
    "# and longitudes of each earthquake in the file:\n",
    "\n",
    "import csv\n",
    "\n",
    "# Open the earthquake data file.\n",
    "filename = 'datasets/earthquake_data.csv'\n",
    "\n",
    "# Create empty lists for the latitudes and longitudes.\n",
    "lats, lons = [], []\n",
    "\n",
    "# Read through the entire file, skip the first line,\n",
    "#  and pull out just the lats and lons.\n",
    "with open(filename) as f:\n",
    "    # Create a csv reader object.\n",
    "    reader = csv.reader(f)\n",
    "    \n",
    "    # Ignore the header row.\n",
    "    next(reader)\n",
    "    \n",
    "    # Store the latitudes and longitudes in the appropriate lists.\n",
    "    for row in reader:\n",
    "        lats.append(float(row[1]))\n",
    "        lons.append(float(row[2]))\n",
    "        \n",
    "# Display the first 5 lats and lons.\n",
    "print('lats', lats[0:5])\n",
    "print('lons', lons[0:5])"
   ]
  },
  {
   "cell_type": "markdown",
   "metadata": {},
   "source": [
    "Finally, join all these concepts together to add these points to a map."
   ]
  },
  {
   "cell_type": "code",
   "execution_count": null,
   "metadata": {
    "collapsed": true
   },
   "outputs": [],
   "source": [
    "import csv\n",
    "\n",
    "# Open the earthquake data file.\n",
    "filename = 'datasets/earthquake_data.csv'\n",
    "\n",
    "# Create empty lists for the latitudes and longitudes.\n",
    "lats, lons = [], []\n",
    "\n",
    "# Read through the entire file, skip the first line,\n",
    "#  and pull out just the lats and lons.\n",
    "with open(filename) as f:\n",
    "    # Create a csv reader object.\n",
    "    reader = csv.reader(f)\n",
    "    \n",
    "    # Ignore the header row.\n",
    "    next(reader)\n",
    "    \n",
    "    # Store the latitudes and longitudes in the appropriate lists.\n",
    "    for row in reader:\n",
    "        lats.append(float(row[1]))\n",
    "        lons.append(float(row[2]))\n",
    " \n",
    "# --- Build Map ---\n",
    "from mpl_toolkits.basemap import Basemap\n",
    "import matplotlib.pyplot as plt\n",
    "import numpy as np\n",
    " \n",
    "eq_map = Basemap(projection='robin', resolution = 'l', area_thresh = 1000.0,\n",
    "              lat_0=0, lon_0=-130)\n",
    "eq_map.drawcoastlines()\n",
    "eq_map.drawcountries()\n",
    "eq_map.fillcontinents(color = 'gray')\n",
    "eq_map.drawmapboundary()\n",
    "eq_map.drawmeridians(np.arange(0, 360, 30))\n",
    "eq_map.drawparallels(np.arange(-90, 90, 30))\n",
    " \n",
    "x,y = eq_map(lons, lats)\n",
    "eq_map.plot(x, y, 'ro', markersize=6)\n",
    " \n",
    "plt.show()\n",
    "hide output\n"
   ]
  },
  {
   "cell_type": "markdown",
   "metadata": {},
   "source": [
    "## Challenges 1\n",
    "\n",
    "After you have worked through this notebook, here are a few things to try:\n",
    "\n",
    "1. Get some additional earthquake data and work out a way of interacting with the different data sets.\n",
    "2. Is it possible to produce an animation?\n",
    "3. Is there a way of making the size of the marker on the map represent the magnitude of the earthquake?\n",
    "\n"
   ]
  },
  {
   "cell_type": "markdown",
   "metadata": {},
   "source": [
    "## Challenges 2\n",
    "Try to map and visualise some other data.\n",
    "\n",
    "Start with a simple dataset and example like this: http://polar.ncep.noaa.gov/global/examples/usingpython.shtml\n",
    "* Get some data\n",
    "* Extract the correct subset\n",
    "* Plot on a map\n",
    "\n",
    "This source: http://seamap.env.duke.edu/\n",
    "(Ocean Biogeographic Information System Spatial Ecological Analysis of Megavertebrate Populations)\n",
    "hosts sighting data for big swimming things in the sea.\n",
    "\n",
    "* Find data for a species\n",
    "* Filter\n",
    "* Plot on map\n",
    "* Add interactivity to dynamically change species (e.g. Dolphin sightings to Humpback whale sightings)\n",
    "\n",
    "Again, is it possile to create animations of these?"
   ]
  },
  {
   "cell_type": "markdown",
   "metadata": {},
   "source": [
    "## Challenges 3\n",
    "Basemap is really useful, but there are alternatives.\n",
    "If you have time, try to add this data to a Google Map instead.\n",
    "\n",
    "To do this you'll need to find out more about the **Google Maps API**"
   ]
  },
  {
   "cell_type": "code",
   "execution_count": null,
   "metadata": {
    "collapsed": true
   },
   "outputs": [],
   "source": []
  }
 ],
 "metadata": {
  "kernelspec": {
   "display_name": "Python 3",
   "language": "python",
   "name": "python3"
  },
  "language_info": {
   "codemirror_mode": {
    "name": "ipython",
    "version": 3
   },
   "file_extension": ".py",
   "mimetype": "text/x-python",
   "name": "python",
   "nbconvert_exporter": "python",
   "pygments_lexer": "ipython3",
   "version": "3.5.1"
  }
 },
 "nbformat": 4,
 "nbformat_minor": 0
}
